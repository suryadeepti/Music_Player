{
 "cells": [
  {
   "cell_type": "code",
   "execution_count": 1,
   "id": "trying-belgium",
   "metadata": {},
   "outputs": [
    {
     "name": "stdout",
     "output_type": "stream",
     "text": [
      "pygame 2.0.1 (SDL 2.0.14, Python 3.8.5)\n",
      "Hello from the pygame community. https://www.pygame.org/contribute.html\n"
     ]
    }
   ],
   "source": [
    "import pygame #used to create video games\n",
    "import tkinter as tkr #used to develop GUI\n",
    "from tkinter import * "
   ]
  },
  {
   "cell_type": "code",
   "execution_count": 2,
   "id": "nonprofit-joining",
   "metadata": {},
   "outputs": [],
   "source": [
    "from tkinter.filedialog import askdirectory #it permit to select dir\n",
    "import os #it permits to interact with the operating system"
   ]
  },
  {
   "cell_type": "code",
   "execution_count": 3,
   "id": "reliable-stress",
   "metadata": {},
   "outputs": [
    {
     "data": {
      "text/plain": [
       "''"
      ]
     },
     "execution_count": 3,
     "metadata": {},
     "output_type": "execute_result"
    }
   ],
   "source": [
    "music_player = tkr.Tk()\n",
    "music_player.title(\"Music Player\") \n",
    "music_player.geometry(\"500x400\")"
   ]
  },
  {
   "cell_type": "code",
   "execution_count": null,
   "id": "technical-massage",
   "metadata": {},
   "outputs": [],
   "source": [
    "directory = askdirectory()\n",
    "os.chdir(directory) #it permits to chenge the current dir\n",
    "song_list = os.listdir()\n",
    "\n",
    "play_list = tkr.Listbox(music_player, font=\"Helvetica 12 bold\", bg=\"yellow\", selectmode=tkr.SINGLE)\n",
    "for item in song_list:\n",
    "    pos = 0\n",
    "    play_list.insert(pos, item)\n",
    "    pos += 1\n",
    "    \n",
    "pygame.init()\n",
    "pygame.mixer.init()\n",
    "\n",
    "\n",
    "def play():\n",
    "    pygame.mixer.music.load(play_list.get(tkr.ACTIVE))\n",
    "    var.set(play_list.get(tkr.ACTIVE))\n",
    "    pygame.mixer.music.play()\n",
    "def stop():\n",
    "    pygame.mixer.music.stop()\n",
    "def pause():\n",
    "    pygame.mixer.music.pause()\n",
    "def unpause():\n",
    "    pygame.mixer.music.unpause()\n",
    "    \n",
    "    \n",
    "    \n",
    "Button1 = tkr.Button(music_player, width=5, height=3, font=\"Helvetica 12 bold\", text=\"PLAY\", command=play, bg=\"blue\", fg=\"white\")\n",
    "Button2 = tkr.Button(music_player, width=5, height=3, font=\"Helvetica 12 bold\", text=\"STOP\", command=stop, bg=\"red\", fg=\"white\")\n",
    "Button3 = tkr.Button(music_player, width=5, height=3, font=\"Helvetica 12 bold\", text=\"PAUSE\", command=pause, bg=\"light blue\", fg=\"white\")\n",
    "Button4 = tkr.Button(music_player, width=5, height=3, font=\"Helvetica 12 bold\", text=\"UNPAUSE\", command=unpause, bg=\"light green\", fg=\"white\")\n",
    "\n",
    "\n",
    "\n",
    "var = tkr.StringVar() \n",
    "song_title = tkr.Label(music_player, font=\"Helvetica 12 bold\", textvariable=var)\n",
    "\n",
    "\n",
    "\n",
    "song_title.pack()\n",
    "Button1.pack(fill=\"x\")\n",
    "Button2.pack(fill=\"x\")\n",
    "Button3.pack(fill=\"x\")\n",
    "Button4.pack(fill=\"x\")\n",
    "play_list.pack(fill=\"both\", expand=\"yes\")\n",
    "music_player.mainloop()"
   ]
  },
  {
   "cell_type": "code",
   "execution_count": null,
   "id": "planned-secret",
   "metadata": {},
   "outputs": [],
   "source": [
    "music_player.save"
   ]
  },
  {
   "cell_type": "code",
   "execution_count": null,
   "id": "stunning-monte",
   "metadata": {},
   "outputs": [],
   "source": []
  }
 ],
 "metadata": {
  "kernelspec": {
   "display_name": "Python 3",
   "language": "python",
   "name": "python3"
  },
  "language_info": {
   "codemirror_mode": {
    "name": "ipython",
    "version": 3
   },
   "file_extension": ".py",
   "mimetype": "text/x-python",
   "name": "python",
   "nbconvert_exporter": "python",
   "pygments_lexer": "ipython3",
   "version": "3.8.5"
  }
 },
 "nbformat": 4,
 "nbformat_minor": 5
}
